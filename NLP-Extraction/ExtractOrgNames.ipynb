{
 "cells": [
  {
   "cell_type": "code",
   "execution_count": 17,
   "id": "a6aaa1b1",
   "metadata": {},
   "outputs": [
    {
     "name": "stdout",
     "output_type": "stream",
     "text": [
      " Update, Nov. 7, 2017: TODAY Parents is resharing this story from 2016 because a new series of inappropriate videos have cropped up on YouTube Kids and are making headlines. While the channel names and characters used may be different, the problem remains the same — disturbing videos hiding behind familiar cartoon characters are making their way on to YouTube and are finding young audiences. Here's TODAY's video about the latest developments. Helpful tips to avoid such content include following only trusted YouTube channels, carefully setting and updating parental controls for video programs and apps, listening to and watching content with your children, and keeping electronic devices in an open area while they're being used. Parents of tablet-using kids are no stranger to YouTube videos with the catchy tune of \"Finger Family\" songs — videos in which cartoon characters dance on the ends of illustrated fingers while singing lyrics like, \"Daddy finger, daddy finger, where are you? Here I am. Here I am. How do you do?\" Several videos on the Superkidz Finger Family YouTube channel begin with familiar cartoon characters singing, then turn to images of graphic violence. YouTube/Superkidz Finger Family While moms and dads have joked about these videos being annoying, they were presumably safe on the YouTube Kids app, a version of the video site that YouTube describes as \"a delightfully simple and free app, where kids can discover videos, channels and playlists they love.\" However, one channel available on YouTube Kids, Superkidz Finger Family, has offered a dark take on the \"Finger Family\" song. Recently, some moms have shared on social media their shock at finding graphic images of Mickey Mouse and his family, shooting one another — and themselves — in the head with guns. As this video progresses, Mickey Mouse is shown holding a gun, shooting others and himself. YouTube/Superkidz Finger Family YouTube removed the channel after speaking to TODAY Parents about it — days after moms started to spread the alarm about the totally inappropriate content. Beth Brister-Kaster, an Ohio mom, posted a video to Facebook, sharing one of the videos — which begins with innocent cartoons before switching to the violent scenes. \"I just deleted YouTube Kids' app forever. Never again,\" Brister-Kaster says as she shows the questionable video. \"This is absolutely insane. This is what our children are watching...it's just Peppa Pig and then, all of a sudden, it goes to Mickey Mouse shooting people.\" Brister-Kaster, whose daughter is 4, says she posted the video because she was horrified to see such content on a site she trusted. RELATED: Child advocacy groups say YouTube Kids rife with 'inappropriate' videos \"I need to protect (my daughter) and I needed other parents to be aware of this kind of garbage that is out on the Internet,\" Brister-Kaster told TODAY Parents. \"I definitely don't want (my daughter) to see that kind of stuff. Who would have thought to do something like that three minutes into a little kids video?\" \"This is absolutely insane,\" Brister-Kaster says in her video. \"This is what our children are watching...it's just Peppa Pig and then, all of a sudden, it goes to Mickey Mouse shooting people.\" YouTube/Superkidz Finger Family Maryland mom Chaye Benjamin also posted a response to the content, filming a Facebook video while she hid in her bathroom, so that her 3-year-old daughter would not see the video a second time. \"This is a kids' YouTube channel...this isn't even a regular YouTube Channel, it's a kids' channel,\" Benjamin says through tears. \"Please be careful. Please watch the videos with your children, don't just let them watch the videos by themselves.\" \"Please be careful,\" Benjamin said in her video. \"Please watch the videos with your children, don't just let them watch the videos by themselves.\" YouTube/Superkidz Finger Family Benjamin's plea to other parents inspired a Change.org petition, asking YouTube to ban the Superkidz Finger Family channel completely. Other parents left supportive comments saying they had reported the inappropriate content to YouTube. A spokesperson for YouTube told TODAY Parents that the company works hard to ensure content found on YouTube Kids is family-friendly, adding that they take viewer feedback very seriously. The company also has plans for future updates to the YouTube Kids app, which will allow parents to further customize the types of content they want their kids to watch through the parental control area of the app. \"We appreciate people drawing problematic content to our attention, and make it possible for anyone to flag a video,\" said the spokesperson. \"Flagged videos are manually reviewed 24/7 and any videos that don't belong in the app are removed.\" When asked about the Superkidz Finger Family channel specifically, Yo...\n"
     ]
    }
   ],
   "source": [
    "with open('Incident1.txt', 'r') as f:\n",
    "    lines = f.readlines()\n",
    "\n",
    "content = \"\"\n",
    "for line in lines:\n",
    "    if line != '\\n':\n",
    "        content += \" \" + line.strip('\\n')\n",
    "print(content)"
   ]
  },
  {
   "cell_type": "code",
   "execution_count": 7,
   "id": "bdb25b4b",
   "metadata": {},
   "outputs": [],
   "source": [
    "import spacy\n",
    "from spacy import displacy\n",
    "from collections import Counter\n",
    "import en_core_web_sm\n",
    "nlp = en_core_web_sm.load()"
   ]
  },
  {
   "cell_type": "code",
   "execution_count": 18,
   "id": "9cd5dd3c",
   "metadata": {},
   "outputs": [
    {
     "name": "stdout",
     "output_type": "stream",
     "text": [
      "['YouTube', 'TODAY', 'YouTube', 'YouTube', 'the Superkidz Finger Family YouTube', 'YouTube/Superkidz Finger Family', 'YouTube', 'YouTube/Superkidz Finger Family YouTube', 'Facebook', 'Brister-Kaster', 'Brister-Kaster', 'Brister-Kaster', 'TODAY Parents', 'Brister-Kaster', 'YouTube/Superkidz Finger Family Maryland', 'Facebook', 'YouTube', \"YouTube/Superkidz Finger Family Benjamin's\", 'Change.org', 'YouTube', 'the Superkidz Finger Family', 'YouTube', 'YouTube', 'TODAY Parents', 'the Superkidz Finger Family', 'Yo']\n",
      "26\n"
     ]
    }
   ],
   "source": [
    "doc = nlp(content)\n",
    "orgs = []\n",
    "for X in doc.ents:\n",
    "    if X.label_ == 'ORG':\n",
    "        orgs.append(X.text)\n",
    "        \n",
    "print(orgs)\n",
    "print(len(orgs))"
   ]
  },
  {
   "cell_type": "code",
   "execution_count": 19,
   "id": "a9f7b9b2",
   "metadata": {},
   "outputs": [
    {
     "name": "stdout",
     "output_type": "stream",
     "text": [
      "['YouTube', 'TODAY', 'YouTube', 'YouTube', 'the Superkidz Finger Family YouTube', 'YouTube', 'Facebook', 'Brister-Kaster', 'Brister-Kaster', 'Brister-Kaster', 'TODAY Parents', 'Brister-Kaster', 'Facebook', 'YouTube', 'Change.org', 'YouTube', 'the Superkidz Finger Family', 'YouTube', 'YouTube', 'TODAY Parents', 'the Superkidz Finger Family', 'Yo']\n",
      "22\n"
     ]
    }
   ],
   "source": [
    "clean_content = content.replace(\"/\", \" \")\n",
    "doc = nlp(clean_content)\n",
    "orgs = []\n",
    "for X in doc.ents:\n",
    "    if X.label_ == 'ORG':\n",
    "        orgs.append(X.text)\n",
    "        \n",
    "print(orgs)\n",
    "print(len(orgs))"
   ]
  },
  {
   "cell_type": "code",
   "execution_count": null,
   "id": "837e2296",
   "metadata": {},
   "outputs": [],
   "source": [
    "# could cross reference with powrbot lists of companies\n",
    "# but the lists are separated by industry so would need to write a script to combine them into one\n",
    "# would this include enough variety of the companies or would some not be included?\n",
    "# what about other organizations that are not companies?"
   ]
  },
  {
   "cell_type": "code",
   "execution_count": 9,
   "id": "8ff97bd9",
   "metadata": {},
   "outputs": [
    {
     "ename": "ImportError",
     "evalue": "cannot import name 'apikey' from 'config' (/opt/anaconda3/lib/python3.8/site-packages/config/__init__.py)",
     "output_type": "error",
     "traceback": [
      "\u001b[0;31m---------------------------------------------------------------------------\u001b[0m",
      "\u001b[0;31mImportError\u001b[0m                               Traceback (most recent call last)",
      "\u001b[0;32m<ipython-input-9-01ff79dad60a>\u001b[0m in \u001b[0;36m<module>\u001b[0;34m\u001b[0m\n\u001b[1;32m      1\u001b[0m \u001b[0;32mimport\u001b[0m \u001b[0mrequests\u001b[0m\u001b[0;34m\u001b[0m\u001b[0;34m\u001b[0m\u001b[0m\n\u001b[1;32m      2\u001b[0m \u001b[0;32mimport\u001b[0m \u001b[0mjson\u001b[0m\u001b[0;34m\u001b[0m\u001b[0;34m\u001b[0m\u001b[0m\n\u001b[0;32m----> 3\u001b[0;31m \u001b[0;32mfrom\u001b[0m \u001b[0mconfig\u001b[0m \u001b[0;32mimport\u001b[0m \u001b[0mapikey\u001b[0m\u001b[0;34m\u001b[0m\u001b[0;34m\u001b[0m\u001b[0m\n\u001b[0m\u001b[1;32m      4\u001b[0m \u001b[0;34m\u001b[0m\u001b[0m\n\u001b[1;32m      5\u001b[0m \u001b[0mtext\u001b[0m \u001b[0;34m=\u001b[0m \u001b[0mcontent\u001b[0m\u001b[0;34m\u001b[0m\u001b[0;34m\u001b[0m\u001b[0m\n",
      "\u001b[0;31mImportError\u001b[0m: cannot import name 'apikey' from 'config' (/opt/anaconda3/lib/python3.8/site-packages/config/__init__.py)"
     ]
    }
   ],
   "source": [
    "import requests\n",
    "import json\n",
    "from config import apikey\n",
    " \n",
    "text = content\n",
    "headers = {\n",
    "    \"Content-Type\": \"application/json\",\n",
    "    \"apikey\": apikey\n",
    "}\n",
    "body = {\n",
    "    \"text\": text\n",
    "}\n",
    "url = \"https://app.thetextapi.com/text/ner\"\n",
    " \n",
    "response = requests.post(url, headers=headers, json=body)\n",
    "ner = json.loads(response.text)[\"ner\"]\n",
    "print(ner)"
   ]
  },
  {
   "cell_type": "code",
   "execution_count": null,
   "id": "2797a026",
   "metadata": {},
   "outputs": [],
   "source": []
  }
 ],
 "metadata": {
  "kernelspec": {
   "display_name": "Python 3",
   "language": "python",
   "name": "python3"
  },
  "language_info": {
   "codemirror_mode": {
    "name": "ipython",
    "version": 3
   },
   "file_extension": ".py",
   "mimetype": "text/x-python",
   "name": "python",
   "nbconvert_exporter": "python",
   "pygments_lexer": "ipython3",
   "version": "3.8.8"
  }
 },
 "nbformat": 4,
 "nbformat_minor": 5
}
